{
 "cells": [
  {
   "cell_type": "code",
   "execution_count": 263,
   "metadata": {
    "collapsed": true
   },
   "outputs": [],
   "source": [
    "import matplotlib\n",
    "import matplotlib.pyplot as plt\n",
    "import matplotlib.ticker as mticker\n",
    "import matplotlib.dates as mdates\n",
    "import numpy as np\n",
    "import time"
   ]
  },
  {
   "cell_type": "code",
   "execution_count": 264,
   "metadata": {
    "collapsed": true
   },
   "outputs": [],
   "source": [
    "totalStartTime = time.time()"
   ]
  },
  {
   "cell_type": "code",
   "execution_count": 265,
   "metadata": {
    "collapsed": true
   },
   "outputs": [],
   "source": [
    "date,bid,ask = np.loadtxt('/Users/yueliu/Downloads/GBPUSD/GBPUSD1d.txt',unpack = True, delimiter = ',',\n",
    "                        converters ={0:mdates.strpdate2num('%Y%m%d%H%M%S')})"
   ]
  },
  {
   "cell_type": "code",
   "execution_count": 266,
   "metadata": {
    "collapsed": true
   },
   "outputs": [],
   "source": [
    "patternAr = []\n",
    "performanceAr = []\n",
    "avgLine = ((bid + ask)/2)\n",
    "patForRec =[]"
   ]
  },
  {
   "cell_type": "code",
   "execution_count": 267,
   "metadata": {
    "collapsed": true
   },
   "outputs": [],
   "source": [
    "def percentChange(startPoint,currentPoint):\n",
    "    #return ((float(currentPoint) - startPoint)/abs(startPoint))*100.00\n",
    "    try:\n",
    "        x = ((float(currentPoint)-startPoint)/abs(startPoint))*100.00\n",
    "        if x == 0.0:\n",
    "            return 0.000000001\n",
    "        else:\n",
    "            return x\n",
    "    except:\n",
    "        return 0.00000001"
   ]
  },
  {
   "cell_type": "code",
   "execution_count": 268,
   "metadata": {
    "collapsed": false
   },
   "outputs": [
    {
     "data": {
      "text/plain": [
       "62012"
      ]
     },
     "execution_count": 268,
     "metadata": {},
     "output_type": "execute_result"
    }
   ],
   "source": [
    "len(date)"
   ]
  },
  {
   "cell_type": "code",
   "execution_count": 269,
   "metadata": {
    "collapsed": false
   },
   "outputs": [],
   "source": [
    "def patternStorage():\n",
    "    patStartTime = time.time()\n",
    "    x = len(avgLine) - 60\n",
    "    y = 31\n",
    "    \n",
    "    while y < x:\n",
    "        pattern =[]\n",
    "        for i in range(1,31):\n",
    "            pattern.append(percentChange(avgLine[y-30],avgLine[y-(30-i)]))\n",
    "            \n",
    "        outcomeRange = avgLine[y+30:y+60]\n",
    "        currentPoint = avgLine[y]\n",
    "        \n",
    "        try:\n",
    "            avgOutcome = reduce(lambda x,y: x+y,outcomeRange)/len(outcomeRange)\n",
    "        except Exception, e:\n",
    "            print str(e)\n",
    "            avgOutcome = 0\n",
    "        \n",
    "        futureOutcome = percentChange(currentPoint,avgOutcome)\n",
    "        \n",
    "        patternAr.append(pattern)\n",
    "        performanceAr.append(futureOutcome)    \n",
    "        y += 1\n",
    "    \n",
    "    patEndTime = time.time()\n",
    "    print len(patternAr)\n",
    "    print len(performanceAr)\n",
    "    print \"pattern storage took:\", patEndTime-patStartTime,\"seconds\""
   ]
  },
  {
   "cell_type": "code",
   "execution_count": 270,
   "metadata": {
    "collapsed": false
   },
   "outputs": [],
   "source": [
    "def graphRawFex():\n",
    "    \n",
    "    fig = plt.figure(figsize = (10,7))\n",
    "    ax1 = plt.subplot2grid((40,40),(0,0),rowspan = 40,colspan = 40)\n",
    "    ax1.plot(date,bid)\n",
    "    ax1.plot(date,ask)\n",
    "    plt.gca().get_yaxis().get_major_formatter().set_useOffset(False)\n",
    "\n",
    "    ax1.xaxis.set_major_formatter(mdates.DateFormatter('%Y-%m-%d %H:%M:%S'))\n",
    "    \n",
    "    for label in ax1.xaxis.get_ticklabels():\n",
    "        label.set_rotation(45)\n",
    "    \n",
    "    ax1_2 = ax1.twinx()\n",
    "    ax1_2.fill_between(date,0,(ask-bid),facecolor = 'g',alpha = .3)\n",
    "    \n",
    "    plt.gca().get_yaxis().get_major_formatter().set_useOffset(False)\n",
    "    plt.subplots_adjust(bottom = .23)    \n",
    "    \n",
    "    plt.grid(True)\n",
    "    plt.show()"
   ]
  },
  {
   "cell_type": "code",
   "execution_count": 271,
   "metadata": {
    "collapsed": false
   },
   "outputs": [],
   "source": [
    "def currentPattern():\n",
    "    global patForRec\n",
    "    for i in range(1,31):\n",
    "        patForRec.append(percentChange(avgLine[-31],avgLine[-31+i]))\n",
    "    patForRec = np.array(patForRec)\n",
    "    print patForRec"
   ]
  },
  {
   "cell_type": "code",
   "execution_count": 280,
   "metadata": {
    "collapsed": false
   },
   "outputs": [],
   "source": [
    "def patternRecognition():\n",
    "    start = time.time()\n",
    "    global patternAr\n",
    "    xp = range(1,31)\n",
    "    fig = plt.figure()\n",
    "    plt.plot(xp,patForRec,color = 'r')\n",
    "    performance = 0\n",
    "    num = 0\n",
    "    for eachPattern in patternAr:\n",
    "        sim = 0\n",
    "        for i in range(30):\n",
    "            sim = sim + (100.00 - abs(percentChange(eachPattern[i],patForRec[i])))\n",
    "        \n",
    "        howSim = sim/30.00\n",
    "        if howSim > 40:\n",
    "            plt.plot(xp,eachPattern)\n",
    "            patdex = patternAr.index(eachPattern)\n",
    "            print\"*********************\"\n",
    "            print patForRec\n",
    "            print \"---------------------\"\n",
    "            print eachPattern\n",
    "            print \"perdicted outcome\"\n",
    "            print performanceAr[patdex]\n",
    "            performance = performance + performanceAr[patdex]\n",
    "            num += 1\n",
    "    plt.show()\n",
    "    print \"ultimate average performance perdiction:\", float(performance)/num\n",
    "    end = time.time()\n",
    "    print \"running time: \",end-start,\"seconds\""
   ]
  },
  {
   "cell_type": "code",
   "execution_count": 22,
   "metadata": {
    "collapsed": false
   },
   "outputs": [],
   "source": [
    "graphRawFex()"
   ]
  },
  {
   "cell_type": "code",
   "execution_count": 273,
   "metadata": {
    "collapsed": false
   },
   "outputs": [
    {
     "name": "stdout",
     "output_type": "stream",
     "text": [
      "61921\n",
      "61921\n",
      "pattern storage took: 2.60821795464 seconds\n"
     ]
    }
   ],
   "source": [
    "patternStorage()"
   ]
  },
  {
   "cell_type": "code",
   "execution_count": 274,
   "metadata": {
    "collapsed": false
   },
   "outputs": [
    {
     "name": "stdout",
     "output_type": "stream",
     "text": [
      "[  1.00000000e-09  -3.21121098e-04   1.00000000e-09   1.00000000e-09\n",
      "   1.00000000e-09   1.00000000e-09   1.00000000e-09   1.00000000e-09\n",
      "   1.00000000e-09  -6.42242196e-04   1.00000000e-09   6.42242196e-04\n",
      "   6.42242196e-04   9.63363294e-04   6.42242196e-04   6.42242196e-04\n",
      "   3.21121098e-04   3.21121098e-04  -3.21121098e-04  -3.21121098e-04\n",
      "  -6.42242196e-04  -1.60560549e-03  -9.63363294e-04  -6.42242196e-04\n",
      "  -9.63363294e-04  -1.92672659e-03  -1.92672659e-03  -1.92672659e-03\n",
      "  -6.42242196e-04  -6.42242196e-04]\n"
     ]
    }
   ],
   "source": [
    "currentPattern()"
   ]
  },
  {
   "cell_type": "code",
   "execution_count": 281,
   "metadata": {
    "collapsed": false,
    "scrolled": true
   },
   "outputs": [
    {
     "name": "stdout",
     "output_type": "stream",
     "text": [
      "*********************\n",
      "[  1.00000000e-09  -3.21121098e-04   1.00000000e-09   1.00000000e-09\n",
      "   1.00000000e-09   1.00000000e-09   1.00000000e-09   1.00000000e-09\n",
      "   1.00000000e-09  -6.42242196e-04   1.00000000e-09   6.42242196e-04\n",
      "   6.42242196e-04   9.63363294e-04   6.42242196e-04   6.42242196e-04\n",
      "   3.21121098e-04   3.21121098e-04  -3.21121098e-04  -3.21121098e-04\n",
      "  -6.42242196e-04  -1.60560549e-03  -9.63363294e-04  -6.42242196e-04\n",
      "  -9.63363294e-04  -1.92672659e-03  -1.92672659e-03  -1.92672659e-03\n",
      "  -6.42242196e-04  -6.42242196e-04]\n",
      "---------------------\n",
      "[-0.00032188703051558006, -0.00032188703051558006, 1e-09, 1e-09, 0.00032188703054416938, 0.00064377406105974944, 0.00064377406105974944, 0.00064377406105974944, 1e-09, 0.00064377406105974944, 0.00032188703052987472, 0.00032188703052987472, 0.0009656610915753295, 0.0009656610915753295, 0.0009656610915753295, 0.00064377406105974944, 0.00064377406105974944, 0.0009656610915753295, -0.0009656610915753295, -0.0025750962442104086, -0.0025750962442104086, -0.001931322183164954, -0.0016094351526350788, -0.0009656610915753295, -0.0012875481221194989, -0.0012875481221052043, -0.001931322183164954, -0.0032188703052701577, -0.0032188703052701577, -0.0032188703052701577]\n",
      "perdicted outcome\n",
      "0.00261809878819\n",
      "*********************\n",
      "[  1.00000000e-09  -3.21121098e-04   1.00000000e-09   1.00000000e-09\n",
      "   1.00000000e-09   1.00000000e-09   1.00000000e-09   1.00000000e-09\n",
      "   1.00000000e-09  -6.42242196e-04   1.00000000e-09   6.42242196e-04\n",
      "   6.42242196e-04   9.63363294e-04   6.42242196e-04   6.42242196e-04\n",
      "   3.21121098e-04   3.21121098e-04  -3.21121098e-04  -3.21121098e-04\n",
      "  -6.42242196e-04  -1.60560549e-03  -9.63363294e-04  -6.42242196e-04\n",
      "  -9.63363294e-04  -1.92672659e-03  -1.92672659e-03  -1.92672659e-03\n",
      "  -6.42242196e-04  -6.42242196e-04]\n",
      "---------------------\n",
      "[-0.00032090366472195341, -0.00064180732944390682, 1e-09, 1e-09, 0.0016045183235955159, 0.0019254219883174692, 0.0022463256530394229, 0.00096271099415160921, 0.00064180732944390682, 0.00064180732944390682, 0.00064180732944390682, 0.00064180732944390682, 0.00096271099415160921, 0.0012836146588878136, 0.0012836146588878136, 0.0012836146588878136, 0.00032090366470770244, -0.00096271099416586018, -0.0012836146588878136, -0.0012836146588878136, -0.0016045183235955159, -0.0012836146588878136, -0.0012836146588878136, -0.0012836146588878136, -0.0016045183235955159, -0.0019254219883317204, -0.0019254219883317204, -0.0019254219883317204, -0.0032090366471910318, -0.0028881329824833294]\n",
      "perdicted outcome\n",
      "-0.0115849568853\n",
      "ultimate average performance perdiction: -0.00448342904858\n",
      "running time:  9.29181003571 seconds\n"
     ]
    }
   ],
   "source": [
    "patternRecognition()"
   ]
  }
 ],
 "metadata": {
  "kernelspec": {
   "display_name": "Python 2",
   "language": "python",
   "name": "python2"
  },
  "language_info": {
   "codemirror_mode": {
    "name": "ipython",
    "version": 2
   },
   "file_extension": ".py",
   "mimetype": "text/x-python",
   "name": "python",
   "nbconvert_exporter": "python",
   "pygments_lexer": "ipython2",
   "version": "2.7.8"
  }
 },
 "nbformat": 4,
 "nbformat_minor": 0
}
